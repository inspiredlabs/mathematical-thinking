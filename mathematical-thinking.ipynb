{
 "cells": [
  {
   "cell_type": "markdown",
   "metadata": {},
   "source": [
    "Local installation: https://www.codecademy.com/articles/how-to-use-jupyter-notebooks and: https://jupyter.readthedocs.io/en/latest/running.html#running"
   ]
  },
  {
   "cell_type": "markdown",
   "metadata": {},
   "source": [
    "Ref: [Typesetting Equations](https://jupyter-notebook.readthedocs.io/en/stable/examples/Notebook/Typesetting%20Equations.html) using the [Katex](https://github.com/KaTeX/KaTeX) render. "
   ]
  },
  {
   "cell_type": "markdown",
   "metadata": {},
   "source": [
    "$$\n",
    "\\begin{array}{c}\n",
    "z_{3,4}\n",
    "\\end{array}\n",
    "$$\n",
    "\n",
    "$$\n",
    "\\begin{array}{c}\n",
    "y_1 \\cr\n",
    "y_2 \\mathtt{t}_i \\cr\n",
    "y_{3}\n",
    "\\end{array}\n",
    "$$\n",
    "\n",
    "$$\\begin{eqnarray}\n",
    "x' &=& &x \\sin\\phi &+& z \\cos\\phi \\\\\n",
    "z' &=& - &x \\cos\\phi &+& z \\sin\\phi \\\\\n",
    "\\end{eqnarray}$$\n",
    "\n",
    "$$\n",
    "x=4\n",
    "$$\n",
    "\n",
    "\n",
    "Let's change (\\\\(\\sigma\\\\), \\\\(\\beta\\\\), \\\\(\\rho\\\\)) with ipywidgets and examine the trajectories."
   ]
  },
  {
   "cell_type": "markdown",
   "metadata": {},
   "source": [
    "# Mathematical Thinking\n",
    "## **Keith Devlin**, Stanford University\n",
    "### [Coursera](https://www.coursera.org/learn/mathematical-thinking) Introduction to Mathematical Thinking, 2012"
   ]
  },
  {
   "cell_type": "markdown",
   "metadata": {},
   "source": [
    "The learning outcome should not be learning procedures that are common or \"highly stereotyped\" problems, but: \n",
    "\n",
    "> **Learn how to think the way mathematicians do** – a powerful cognitive process developed over thousands of years <cite>https://www.coursera.org/learn/mathematical-thinking</cite>\n",
    "\n",
    "We will avoid blind memorisation and describe our examples in multiple, media-rich ways. The use of different sources will augment the videos and provide context to Devlin's soap-opera. This course is evaluated using ongoing self assesment, supplemented with peer review (where necessary)."
   ]
  },
  {
   "cell_type": "markdown",
   "metadata": {},
   "source": [
    "## The science of patterns\n",
    "- An '80s meme to promote what mathematics is about\n",
    "- Mathematics is the study of abstract structure\n",
    "- Mathematics is *not* calculation and computation\n",
    "- Mathematics provides a vocabulary\n",
    "\t- Galileo quote on the language of the Universe\n",
    "\t- example, physics in numbers:\n",
    "    \n",
    "$$\n",
    "Force = mass \\times acceleration\n",
    "$$\n",
    "\n",
    "$$\n",
    "F = ma\n",
    "$$\n",
    "\n"
   ]
  },
  {
   "cell_type": "markdown",
   "metadata": {},
   "source": [
    "## Mathematics looks at these kinds of pattern\n",
    "\n",
    "### Patterns mathematics helps us interpret:\n",
    "- counting (numbers & arithmetic)\n",
    "- Numbers (number theory)\n",
    "- Shape (geometry)\n",
    "- Measuring (trig)\n",
    "- Motion and change (calculus)\n",
    "\t- discovered by Archemedies\n",
    "- Putting things together (algebra)\n",
    "- Symmetry (group theory)\n",
    "- Position and closeness (topology)\n",
    "- Reasoning (logic)\n",
    "\t- goes back to the ancient greeks\n",
    "- Dynamical systems (DS theory)\n",
    "- Repetitions of chance events (probability theory, pattern spotting)\n",
    "- Patterns of real world data (stats)"
   ]
  },
  {
   "cell_type": "markdown",
   "metadata": {},
   "source": [
    "## What is Mathematics good **for?**\n",
    "\n",
    "### Interpreting an understanding of how the world works:\n",
    "- Euler's equation\n",
    "- irrotational numbers\n",
    "- conservative numbers\n",
    "- constant or incompressible\n",
    "- Bernoulli's Equation (18th century):\n",
    "\t- the faster the fluid flows over a surface, the less pressure it applies. \n",
    "\t\t- Remember: fluids are liquids and gases, like air.\n",
    "\t- use this to understand backspin, ie: a golfball can achieve lift through less pressure above the ball as it spins.\n",
    "- understand Newton's second law: every action has an equal and opposite reaction. Example: the whole design of a plane is pointing downwards. Lift is achieved by forces called angle of attack. 2D interpretations are false... list is always 3D (but simplified for pilots)."
   ]
  },
  {
   "cell_type": "markdown",
   "metadata": {},
   "source": [
    "## Mathematics is power\n",
    "\n",
    "### It has powerful ideas and in it's application:\n",
    "- Mathematics in the 19th century was designed to understand heat flow! \"What goes around comes around\", as now we use it to transfer and store data.\n",
    "- Paraphrasing Graciela Chichilnisk (Economist. Columbia Uni) \"NOW mathematics is replacing fossil fuel\", on the knowledge revolution.\n",
    "- Athletic performance.\n"
   ]
  },
  {
   "cell_type": "markdown",
   "metadata": {},
   "source": [
    "## The begining of numbers\n",
    "- 35,000 BCE appears to be the beginnings of numbers\n",
    "- Sumeria\n",
    "\t- Fertile crescent (know know as Iraq)\n",
    "\t- Money emerges about 5,000 BCE\n",
    "\t\t- first symbolic tokens were wrapped in clay envelopes by what we might call bankers\n",
    "\t\t- then, in 4,000 BCE as tablets (like modern-day credit cards!)."
   ]
  },
  {
   "cell_type": "markdown",
   "metadata": {},
   "source": [
    "### Counting and measuring\n",
    "Counting and measuring were originally, two kinds of numbers:\n",
    "- tokens and tablets\n",
    "\t- counting was for money: NATURAL numbers.\n",
    "\t- these are considered foundational.\n",
    "- volume, geometry, area and cartography.\n",
    "\t- This gave us REAL numbers."
   ]
  },
  {
   "cell_type": "markdown",
   "metadata": {},
   "source": [
    "### Bringing things together\n",
    "Until the 19th century these were considered seperate (This is really recent!):\n",
    "- Then 1930 we fuse these two kinds of thinking, although the Greeks tried and discovered the square root of 2 is irrational. They call REAL numbers \"incommensurable\".\n",
    "- Newton wasn't talking about numbers. He's talking about *quantities*: lengths, distances. \n",
    "- Some get to university and see rational numbers are NOT real numbers, and think: THIS IS TOO HARD!"
   ]
  },
  {
   "cell_type": "markdown",
   "metadata": {},
   "source": [
    "Vasily Davydov (1930 - 1988):\n",
    "- begin with algebra: REAL numbers.\n",
    "- arithmetic drops out as a special case! ...these are just points on a line, as a particular instance of REAL numbers.\n",
    "\t- from: Devlin's angle \n"
   ]
  },
  {
   "cell_type": "markdown",
   "metadata": {},
   "source": [
    "### 13th century Arabic-style explosion\n",
    "In the 13th century Arabic style numbers took off in the Mediterranean inventing important new words and businesses around these words... in Italian.\n",
    "\n",
    "#### Italiano:\n",
    "- banking, *bancario*\n",
    "- policy, *politica*\n",
    "- double-entry, *doppia entrata*\n",
    "- bookkeeping, *contabilità*\n",
    "- insurance, *assicurazione*\n",
    "- trade, *commercio*\n",
    "- Now, financial districts are often called: Lombard st.\n",
    "- So much of finance, insurance and trade is in Italian because of merchants such as **Leonardo of Pisa**, doing business in North Africa.\n"
   ]
  },
  {
   "cell_type": "markdown",
   "metadata": {},
   "source": [
    "### The Fibonacci Sequence\n",
    "#### The misnomer\n",
    "\n",
    "**Leonardo of Pisa**\n",
    "- Leonardo, Son of Bonacci was the **Steve Jobs** of his time.\n",
    "- In his book (to describe modern arithmetic) Leonardo refereed to himself as Son of Bonacci, in 1202 (but would have been referred to popularly as: Leonardo of Pisa), not \"Fibonacci\".\n",
    "- Fibonacci is a new name invented by a french author in 1838. \n",
    "- The Fibonacci sequence, indeed wasn't his: this dates back hundreds of years and is just an anecdotal puzzle about population explosion – in rabbits!  \n",
    "- **Libre Abbaci** = the book of *calcculation* (this misspelling  highlight the marketeers-affect). Is basically a cook book for business arethmetic. Like a modern calculus book!\n",
    "- the book: origins of value describe Fibbonaci's REAL legacy (which is essentially inventing the financial system for modern business).\n",
    "- he writes many books leading up to \"The Book of Squares\" (which leads up to Fermat's last theory).\n",
    "\t- from: https://www.youtube.com/watch?v=pk49iM9OT_0&list=PLv0EcocIU7fkLYA7pz8Iw3QsP2a7gFl48"
   ]
  },
  {
   "cell_type": "markdown",
   "metadata": {},
   "source": [
    "## What does the Fibonacci sequence look like?\n",
    "Sometimes described as the *Fibonacci series*, it's formed by adding the latest two numbers to get the next one. \n",
    "\n",
    "Starting from 0 and 1, like this:\n",
    "\n",
    "$$\n",
    "0,1 \\\\\n",
    "0 + 1 = 1 \\\\\n",
    "$$\n",
    "\n",
    "The first term is:\n",
    "\n",
    "$$\n",
    "0, 1, 1 \\\\\n",
    "$$\n",
    "\n",
    "...now, adding the latest two numbers to get the next one:\n",
    "\n",
    "$$\n",
    "  1+1=2 \\\\\n",
    "$$\n",
    "\n",
    "The second term:\n",
    "\n",
    "$$\n",
    "0, 1, 1, 2 \\\\\n",
    "$$\n",
    "\n",
    "And adding the latest two numbers to the second term, you get the third term:\n",
    "\n",
    "$$\n",
    "    1+2=3 \\\\\n",
    "0, 1, 1, 2, 3 \\\\    \n",
    "$$\n",
    "\n",
    "This continues as follows:\n",
    "\n",
    "$$\n",
    "\\begin{array}{c}\n",
    "fib = {0, 1, 1, 2, 3, 5, 8, 13, 21, 34, 55, 89, 144, 233, 377, 610, 987}\n",
    "\\end{array}\n",
    "$$\n",
    "\n",
    "Adapted from [Ron Knott's](http://www.maths.surrey.ac.uk/hosted-sites/R.Knott/Fibonacci/fibtable.html) Surrey University page.\n"
   ]
  },
  {
   "cell_type": "markdown",
   "metadata": {},
   "source": [
    "### The Golden Ratio\n",
    "#### The misnomer\n",
    "- The golden ratio isn't a number: **it's a ratio of lengths**\n",
    "- More specifically: It's *quotient* of two whole numbers: one, divided by the other. One is a *rational* number.\n",
    "    - The [quotient](https://en.wikipedia.org/wiki/Quotient#Notation) is most frequently encountered as two numbers `½` – just like the 1 and 2 in half.\n",
    "    - The *rational* in the golden ratio is `1`. In notation, this appears as: ℚ, and is [countatable](https://en.wikipedia.org/wiki/Rational_number).\n",
    "\n",
    "#### Fact verses Fiction\n",
    "- On the [video](https://youtu.be/4oyyXC5IzEE?list=PLv0EcocIU7fkLYA7pz8Iw3QsP2a7gFl48) there's a few examples:\n",
    "- This idea was in Euclid's elements, 300BC (as the bland title: \"The extreme and mean ratio\"):\n",
    "\t- \"The Divine Proportion\" first appeared in the publication of the same name in 15th Century by Luca Pacioli (in three volumes!).\n",
    "\t- calling it \"golden\" first appeared in 1835, by Martin Ohm, the *brother* of the discoverer of Ohm's law... which is a nice story.\n",
    "\t- it is: `1 + 1-x`\n",
    "\t- `x = 0.61803`\n",
    "\t- desired ratio is `1.61803`\n",
    "\t- `Φ = phi`"
   ]
  },
  {
   "cell_type": "markdown",
   "metadata": {},
   "source": [
    "- The Fibonacci [Sequence](https://youtu.be/4oyyXC5IzEE?list=PLv0EcocIU7fkLYA7pz8Iw3QsP2a7gFl48&t=1132):\n",
    "\n",
    "$$\n",
    "Series=F_n + Fn_1 + Fn_2\n",
    "$$\n"
   ]
  },
  {
   "cell_type": "markdown",
   "metadata": {},
   "source": [
    "### The Fibonacci Sequence **and** the Golden Ratio\n",
    "What's the *relationship?*\n",
    "$$\n",
    "2/1 = 2 \\\\\n",
    "3/2 = 1.5 \\\\\n",
    "5/3 = 1.666 \\\\\n",
    "8/5 = 1.6 \\\\\n",
    "13/8 = 1.625 \\\\\n",
    "21/13 = 1.615 \\\\\n",
    "34/21 = 1.619 \\\\\n",
    "55/34 = 1.618 \\\\\n",
    "$$"
   ]
  },
  {
   "cell_type": "markdown",
   "metadata": {},
   "source": [
    "### The divine proportion\n",
    "- The idea of the *divine* proportion isn't true, these numbers can be used as guides, but they're not always pleasing proportions.\n",
    "- There's no evidence of the golden ratio in Mozart, Bartok, or Virgil's poetry, the pantheon, nor other buildings... or in many places throughout history – there's simply too much room for interpretation. You can find coincidences through interpretation where these numbers are positioned in fact.\n",
    "- Salvidor Dali, and the cubists, Thomas Bucci *did* use interpretations of the golden ration. And Le Corbusier, an architect did take it seriously... he termed it's use the modulor. \n",
    "- Claude Debussy also maybe composed using the golden ratio (maybe).\n",
    "- The nautilus shell grows in a logarithmic spiral. Not in the golden ratio. The fixed angle in that spiral, has no relationship to Φ.\n",
    "- It is in:\n",
    "\t- the square root of 5.\n",
    "\t- penrose tiling\n",
    "\t- Pentagram and pentagon\n",
    "\t\t- this is a nice one as it's adinfinitum:\n",
    "\t\t\t- a+b+a / a+b = Φ\n",
    "\t\t\t- a+b / a = Φ\n",
    "\t\t\t- a/b = Φ\n",
    "\t\t\t\t- why? becasuse these are ratios of LENGTHS, not numbers.\n",
    "\t- fractals... that is a beauty! https://youtu.be/4oyyXC5IzEE?list=PLv0EcocIU7fkLYA7pz8Iw3QsP2a7gFl48&t=2724 \n",
    "\t\t- this is described as a regular growth pattern... you'll find this is FUNDAMENTAL in biology.\n",
    "\t- and in SOME regular solids.\n",
    "\t- Sanskrit uses 1, 3, 5 and 8 in early verses.\n",
    "\t- Fibonacci number do appear in plants and pinecones, flower heads and elsewhere in nature, examples for kids:\n",
    "\t\t- Daisies, often: 13, 21 or 34.\n",
    "\t\t- Michaelmas Daisies: 55 and 89!\n",
    "\t\t- Sunflower has ratios clockwise and counter.\n",
    "\t\t- pine cones: 8 clockwise, 13 counter.\n",
    "\t\t- pineapple: 5,8,13 and 21 spirals!\n",
    "- Fibonacci is \"a whole number approximation\" of the golden ratio – that's why leaves growing on plants statistically fall within these ranges. They're optimising to not be in competition for sunlight. This is called optimal packing.\n",
    "- Mario Livio has done some accessible work relevant to this area.\n",
    "\t- From: https://www.youtube.com/watch?v=4oyyXC5IzEE&list=PLv0EcocIU7fkLYA7pz8Iw3QsP2a7gFl48&index=2 \n"
   ]
  },
  {
   "cell_type": "markdown",
   "metadata": {},
   "source": [
    "### Algebra\n",
    "\n",
    "#### The birth of Al-jabr\n",
    "- [The birth of Algebra](https://youtu.be/FME9avU3u2Y?list=PLv0EcocIU7fkLYA7pz8Iw3QsP2a7gFl48&t=9)\n",
    "- What is modern Algebra?\n",
    "\t- analysis\n",
    "\t- simply put: Patterns of reasoning.\n",
    "\t- modern *symbolic arithmetic* traces it's roots to India and Syria from 200 - 700 CE.\n",
    "\t- Babylonian used:\n",
    "\t\t-  in determinants, such as geometry.\n",
    "\t\t\t- you can see an geometric reasoning (using base 60): https://youtu.be/4oyyXC5IzEE?list=PLv0EcocIU7fkLYA7pz8Iw3QsP2a7gFl48&t=5914 \n",
    "\t\t\t- in that example, they use geometric \"procedure\".\n",
    "\t- and Diophantus, between 150 - 250 CE wrote what is clearly recognisable as modern algebra, using: \"literals\" which is letter substitution.\n",
    "- What is Algebra?\n",
    "\t- it's not arithmetic with letters!\n",
    "\t- 8 and 9th century Baghdad this was brought about... it's a whole new way of thinking.\n",
    "- Algebra doesn't require symbols any more than arithmetic requires symbols.\n",
    "- Symbolic algebra is 16th Century, and is French. \n",
    "\t- quadratic equations\n",
    "\t- Bx + C, etc\n",
    "- Algebra is logical thinking (rather than numerical).\n",
    "\t- qualitative rather than quantitative thinking!\n",
    "- In Algebra you reason logically ABOUT numbers. In arithmetic you calculate WITH numbers.\n",
    "\t- qualitative is ABOUT the numbers\n",
    "\t- quantitative is WITH the numbers\n",
    "- so rather than computing to get the answer, you reason to get the answer... this is called factorising.\n",
    "\t- from: \n",
    "\n",
    "#### Modern Algebra\n",
    "\n",
    "What makes up modern Algebra?\n",
    "- we are not dealing with higher-algebra (like Fermat's last therom, although this isn't quite HA, either!).\n",
    "- a key feature is introducing a name for an unknown and reason logically to find it's value.\n",
    "- deriving the formula in the first place IS algebra, remember:\n",
    "\t- factorising a quadratic equation IS algebra\n",
    "\t- computing the value is arithmetic. \n",
    "- Key idea: restoration and confrontation (without minus numbers).\n",
    "- Brahmagupta 598 - 668 CE wrote ~\"Correctly Established Teachings of Brahma\", with the FIRST appearance of zero and recognisable algebra.\n",
    "- Al Khwarizimi (pronunced Al car-is-mi) 780 - 850 CE. \n",
    "\t- he has a pretty significant legacy: \n",
    "\t\t- the word algebra (al-jabr)\n",
    "\t\t- the word algorithm (computational procedure)\n",
    "\t\t\t- from: https://youtu.be/FME9avU3u2Y?list=PLv0EcocIU7fkLYA7pz8Iw3QsP2a7gFl48&t=1532 \n",
    "- In 830 CE he wrote: Al-Kitab al-mukhiasar fi hisab _Al-jabra_ __wa'l-muqabala__. \n",
    "\t- Which we know as _Algebra_\n",
    "\t\t- and __restoration and confrontation__ \n",
    "\t\t\t- this book is know by scholars as: The abridged book on algebra. It was introduced for VERY VERY practical reasons.\n",
    "\t\t\t\t- from: https://youtu.be/FME9avU3u2Y?list=PLv0EcocIU7fkLYA7pz8Iw3QsP2a7gFl48&t=1121 \n",
    "\n",
    "#### Practically speaking...\n",
    "\n",
    "- You can do a lot in the world simply, with just linear equations...\n",
    "\t- when THINGS CHANGE AT DIFFERENT RATES and linear just doesn't work – within a certain range, or tolerance, you can just use quadratics! Even an exponential curve looks quadratic over small intervals.\n",
    "\t\t- [Physics books are full of linear and quadratic equations](https://youtu.be/FME9avU3u2Y?list=PLv0EcocIU7fkLYA7pz8Iw3QsP2a7gFl48&t=1259)\n",
    "- The next major figure is: Abu Kamil (850 - 930 CE).\n",
    "\t- x4 + 3125 = 125x2 to find the length of a regular pentagon in a circle of radius 10.\n",
    "\t\t- from: https://youtu.be/FME9avU3u2Y?list=PLv0EcocIU7fkLYA7pz8Iw3QsP2a7gFl48&t=1650 \n",
    "\t- found 2,676 solutions for an in deteriminant problem* (*a problem where there's more than one solution) – there were less distractions then!\n",
    "\t- Prolific. Wrote at leat 10 books. \n",
    "- Al-Karaji (953 - 1029 CE):\n",
    "\t- realised you can keep running up exponents indefinitely.\n",
    "\t- invented proof by induction. It's not explicit in his work, but it's certainly implicit.\n",
    "- Omar Khayyam (1048 - 1131 CE):\n",
    "\t- details cataloging of all the possible kinds of linear, quadratic and cubic equations and related them to geometric constructions.\n",
    "\t- concluded that: cubic equations required conic sections and couldn't be solved using ruler & compass methods.\n",
    "- al-Samaw'al (1130 - 1180 CE):\n",
    "\t- child prodigy, wrote 80 books.\n",
    "\t- Proved: n(n + 1)(2n + 1)/6\n",
    "\t\t- expressed in modern notation\n",
    "\t- used logical reasoning with unknowns, rather than numerical values.\n",
    "\t\t- from: https://youtu.be/FME9avU3u2Y?list=PLv0EcocIU7fkLYA7pz8Iw3QsP2a7gFl48&t=1889 \n",
    "\t\t• From: https://www.youtube.com/watch?v=FME9avU3u2Y&list=PLv0EcocIU7fkLYA7pz8Iw3QsP2a7gFl48&index=3 \n"
   ]
  },
  {
   "cell_type": "code",
   "execution_count": null,
   "metadata": {},
   "outputs": [],
   "source": []
  }
 ],
 "metadata": {
  "kernelspec": {
   "display_name": "Python 3",
   "language": "python",
   "name": "python3"
  },
  "language_info": {
   "codemirror_mode": {
    "name": "ipython",
    "version": 3
   },
   "file_extension": ".py",
   "mimetype": "text/x-python",
   "name": "python",
   "nbconvert_exporter": "python",
   "pygments_lexer": "ipython3",
   "version": "3.6.7"
  }
 },
 "nbformat": 4,
 "nbformat_minor": 2
}
